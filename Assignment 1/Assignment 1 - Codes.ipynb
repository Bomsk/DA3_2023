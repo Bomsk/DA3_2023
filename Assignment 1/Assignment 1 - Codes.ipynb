{
 "cells": [
  {
   "cell_type": "markdown",
   "metadata": {},
   "source": [
    "# Importing libraries, Examining data"
   ]
  },
  {
   "cell_type": "code",
   "execution_count": 1,
   "metadata": {},
   "outputs": [],
   "source": [
    "import warnings\n",
    "warnings.filterwarnings('ignore')\n",
    "\n",
    "import pandas as pd\n",
    "import seaborn as sns\n",
    "import matplotlib.pyplot as plt\n",
    "from mizani.formatters import percent_format\n",
    "import os\n",
    "from plotnine import *\n",
    "import numpy as np\n",
    "import sys\n",
    "import numpy as np\n",
    "import statsmodels.api as sm\n",
    "import statsmodels.formula.api as smf\n",
    "from stargazer import stargazer\n",
    "from statsmodels.tools.eval_measures import mse,rmse"
   ]
  },
  {
   "cell_type": "code",
   "execution_count": 2,
   "metadata": {},
   "outputs": [],
   "source": [
    "# Reading csv\n",
    "originaldf = pd.read_csv('https://raw.githubusercontent.com/Bomsk/DA3_2023/main/Assignment%201/morg-2014-emp.csv')"
   ]
  },
  {
   "cell_type": "code",
   "execution_count": null,
   "metadata": {},
   "outputs": [],
   "source": [
    "# Checking dataset\n",
    "originaldf.head()"
   ]
  },
  {
   "cell_type": "code",
   "execution_count": null,
   "metadata": {},
   "outputs": [],
   "source": [
    "# Filtering for Education, Training, and Library Occupations\n",
    "df = originaldf[\n",
    "    (originaldf['occ2012'] >= 2200) &    \n",
    "    (originaldf['occ2012'] <= 2550)]\n",
    "\n",
    "df.head()"
   ]
  },
  {
   "cell_type": "code",
   "execution_count": 5,
   "metadata": {},
   "outputs": [],
   "source": [
    "# Adding gender, wage, lnwage, and agesq features.\n",
    "df[\"female\"] = (df[\"sex\"] == 2)\n",
    "df[\"w\"] = df[\"earnwke\"] / df[\"uhours\"]\n",
    "df[\"lnw\"] = np.log(df[\"w\"])\n",
    "df[\"agesq\"] = np.power(df[\"age\"], 2)\n",
    "\n",
    "df[\"grade92\"] = (df[\"grade92\"] >= 43)                       # Education: Bachelor to Doctorate\n",
    "df[\"race\"] = (df[\"race\"] == 1)                              # Race: White\n",
    "\n",
    "def has_gov(text):                                          # Government: Federal, State, or Local\n",
    "    return 'Government' in text\n",
    "\n",
    "df[\"government\"] = df[\"class\"].apply(has_gov)\n",
    "\n",
    "def has_native(text):                                       # Native: born in US, Puerto Rico, or US Outlying Area, or Abroad of American Parent(s)\n",
    "    return 'Native' in text\n",
    "\n",
    "df[\"native\"] = df[\"prcitshp\"].apply(has_native)\n",
    "\n"
   ]
  },
  {
   "cell_type": "markdown",
   "metadata": {},
   "source": [
    "# Building Models"
   ]
  },
  {
   "cell_type": "markdown",
   "metadata": {},
   "source": [
    "## BIC"
   ]
  },
  {
   "cell_type": "code",
   "execution_count": 6,
   "metadata": {},
   "outputs": [],
   "source": [
    "# OLS regression\n",
    "formula1 = \"w~age\"\n",
    "formula2 = \"w~age+sex\"\n",
    "formula3 = \"w~age+sex+grade92+race\"\n",
    "formula4 = \"w~age+sex+grade92+race+government+native\"\n",
    "\n",
    "reg1 = smf.ols(formula=formula1, data=df).fit(cov_type = \"HC1\")\n",
    "reg2 = smf.ols(formula=formula2, data=df).fit(cov_type = \"HC1\")\n",
    "reg3 = smf.ols(formula=formula3, data=df).fit(cov_type = \"HC1\")\n",
    "reg4 = smf.ols(formula=formula4, data=df).fit(cov_type = \"HC1\")"
   ]
  },
  {
   "cell_type": "code",
   "execution_count": 7,
   "metadata": {},
   "outputs": [
    {
     "data": {
      "text/html": [
       "<table style=\"text-align:center\"><tr><td colspan=\"5\" style=\"border-bottom: 1px solid black\"></td></tr>\n",
       "<tr><td style=\"text-align:left\"></td><td colspan=\"4\"><em>Dependent variable: w</em></td></tr><tr><td style=\"text-align:left\"></td><tr><td style=\"text-align:left\"></td><td>(1)</td><td>(2)</td><td>(3)</td><td>(4)</td></tr>\n",
       "<tr><td colspan=\"5\" style=\"border-bottom: 1px solid black\"></td></tr>\n",
       "\n",
       "<tr><td style=\"text-align:left\">Constant</td><td>12.577<sup>***</sup></td><td>21.791<sup>***</sup></td><td>13.956<sup>***</sup></td><td>14.460<sup>***</sup></td></tr>\n",
       "<tr><td style=\"text-align:left\"></td><td>(0.559)</td><td>(0.890)</td><td>(1.109)</td><td>(1.212)</td></tr>\n",
       "<tr><td style=\"text-align:left\">Age</td><td>0.282<sup>***</sup></td><td>0.285<sup>***</sup></td><td>0.261<sup>***</sup></td><td>0.260<sup>***</sup></td></tr>\n",
       "<tr><td style=\"text-align:left\"></td><td>(0.014)</td><td>(0.014)</td><td>(0.013)</td><td>(0.014)</td></tr>\n",
       "<tr><td style=\"text-align:left\">Sex</td><td></td><td>-5.337<sup>***</sup></td><td>-4.263<sup>***</sup></td><td>-4.245<sup>***</sup></td></tr>\n",
       "<tr><td style=\"text-align:left\"></td><td></td><td>(0.391)</td><td>(0.395)</td><td>(0.393)</td></tr>\n",
       "<tr><td style=\"text-align:left\">Race: White</td><td></td><td></td><td>-0.750<sup></sup></td><td>-0.588<sup></sup></td></tr>\n",
       "<tr><td style=\"text-align:left\"></td><td></td><td></td><td>(0.473)</td><td>(0.478)</td></tr>\n",
       "<tr><td style=\"text-align:left\">Education: Bachelor to Doctorate</td><td></td><td></td><td>9.612<sup>***</sup></td><td>9.540<sup>***</sup></td></tr>\n",
       "<tr><td style=\"text-align:left\"></td><td></td><td></td><td>(0.339)</td><td>(0.344)</td></tr>\n",
       "<tr><td style=\"text-align:left\">Native: born in US, Puerto Rico, or US Outlying Area, or Abroad of American Parent(s)</td><td></td><td></td><td></td><td>-0.853<sup></sup></td></tr>\n",
       "<tr><td style=\"text-align:left\"></td><td></td><td></td><td></td><td>(0.604)</td></tr>\n",
       "<tr><td style=\"text-align:left\">Government: Federal, State, or Local</td><td></td><td></td><td></td><td>0.303<sup></sup></td></tr>\n",
       "<tr><td style=\"text-align:left\"></td><td></td><td></td><td></td><td>(0.407)</td></tr>\n",
       "\n",
       "<td colspan=\"5\" style=\"border-bottom: 1px solid black\"></td></tr>\n",
       "<tr><td style=\"text-align: left\">Observations</td><td>9981</td><td>9981</td><td>9981</td><td>9981</td></tr><tr><td style=\"text-align: left\">R<sup>2</sup></td><td>0.029</td><td>0.043</td><td>0.081</td><td>0.081</td></tr><tr><td style=\"text-align: left\">Adjusted R<sup>2</sup></td><td>0.029</td><td>0.042</td><td>0.080</td><td>0.080</td></tr><tr><td style=\"text-align: left\">Residual Std. Error</td><td>19.486 (df=9979)</td><td>19.351 (df=9978)</td><td>18.965 (df=9976)</td><td>18.965 (df=9974)</td></tr><tr><td style=\"text-align: left\">F Statistic</td><td>397.350<sup>***</sup> (df=1; 9979)</td><td>330.788<sup>***</sup> (df=2; 9978)</td><td>387.848<sup>***</sup> (df=4; 9976)</td><td>262.440<sup>***</sup> (df=6; 9974)</td></tr>\n",
       "<tr><td style=\"text-align: left\">BIC</td><td>87622.06</td><td>87491.95</td><td>87106.02</td><td>87122.59</td></tr><tr><td colspan=\"5\" style=\"border-bottom: 1px solid black\"></td></tr><tr><td style=\"text-align: left\">Note:</td><td colspan=\"4\" style=\"text-align: right\"><sup>*</sup>p&lt;0.1; <sup>**</sup>p&lt;0.05; <sup>***</sup>p&lt;0.01</td></tr></table>"
      ],
      "text/plain": [
       "<stargazer.stargazer.Stargazer at 0x157a41090>"
      ]
     },
     "execution_count": 7,
     "metadata": {},
     "output_type": "execute_result"
    }
   ],
   "source": [
    "# Calculating BIC \n",
    "bic = [round(x.bic, 2) for x in [reg1,reg2,reg3,reg4]]\n",
    "\n",
    "# Creating summary table\n",
    "sg = stargazer.Stargazer([reg1,reg2,reg3,reg4])\n",
    "sg.add_line('BIC', bic, location=stargazer.LineLocation.FOOTER_BOTTOM)\n",
    "\n",
    "# Customizing covariate order\n",
    "sg.covariate_order([\"Intercept\", \"age\", \"sex\", \"race[T.True]\", \"grade92[T.True]\", \"native[T.True]\", \"government[T.True]\"])\n",
    "\n",
    "# Renaming covariates \n",
    "cov_renamed = {\n",
    "    'Intercept': 'Constant', \n",
    "    'age': 'Age', \n",
    "    'sex': 'Sex', \n",
    "    'race[T.True]': 'Race: White', \n",
    "    'grade92[T.True]': 'Education: Bachelor to Doctorate', \n",
    "    'native[T.True]': 'Native: born in US, Puerto Rico, or US Outlying Area, or Abroad of American Parent(s)',\n",
    "    'government[T.True]': 'Government: Federal, State, or Local' \n",
    "    \n",
    "}\n",
    "sg.rename_covariates(cov_renamed)\n",
    "\n",
    "sg"
   ]
  },
  {
   "cell_type": "markdown",
   "metadata": {},
   "source": [
    "## RMSE"
   ]
  },
  {
   "cell_type": "code",
   "execution_count": 8,
   "metadata": {},
   "outputs": [
    {
     "name": "stdout",
     "output_type": "stream",
     "text": [
      "19.48376709945986\n",
      "19.348262133676347\n",
      "18.960287319162695\n",
      "18.958534099191958\n"
     ]
    }
   ],
   "source": [
    "# Calculating RMSE \n",
    "rmse1 = rmse(reg1.fittedvalues,df.w)\n",
    "rmse2 = rmse(reg2.fittedvalues,df.w)\n",
    "rmse3 = rmse(reg3.fittedvalues,df.w)\n",
    "rmse4 = rmse(reg4.fittedvalues,df.w)\n",
    "\n",
    "print(rmse1)\n",
    "print(rmse2)\n",
    "print(rmse3)\n",
    "print(rmse4)"
   ]
  },
  {
   "cell_type": "markdown",
   "metadata": {},
   "source": [
    "## Cross-validated RMSE"
   ]
  },
  {
   "cell_type": "code",
   "execution_count": 9,
   "metadata": {},
   "outputs": [],
   "source": [
    "# Cross-validating OLS regression\n",
    "from sklearn.model_selection import KFold\n",
    "k = KFold(n_splits=4, shuffle=False, random_state=None)\n",
    "\n",
    "### Cross validate OLS with combining sklearn k-fold cross validation and statsmodels ols formula\n",
    "\n",
    "\n",
    "def cv_reg(formula, data, kfold, robustse=None):\n",
    "    regression_list = []\n",
    "    predicts_on_test = []\n",
    "    rsquared = []\n",
    "    rmse_list = []\n",
    "\n",
    "    # Calculating OLS for each fold\n",
    "\n",
    "    for train_index, test_index in k.split(data):\n",
    "        # print(\"TRAIN:\", train_index, \"TEST:\", test_index)\n",
    "        data_train, data_test = data.iloc[train_index, :], data.iloc[test_index, :]\n",
    "        if robustse is None:\n",
    "            model = smf.ols(formula, data=data_train).fit()\n",
    "        else:\n",
    "            model = smf.ols(formula, data=data_train).fit(cov_type=robustse)\n",
    "        regression_list += [model]\n",
    "        predicts_on_test += [model.predict(data_test)]\n",
    "        rsquared += [model.rsquared]\n",
    "        rmse_list += [rmse(data_train[formula.split(\"~\")[0]], model.predict())]\n",
    "\n",
    "    return {\n",
    "        \"regressions\": regression_list,\n",
    "        \"test_predict\": predicts_on_test,\n",
    "        \"r2\": rsquared,\n",
    "        \"rmse\": rmse_list,\n",
    "    }\n",
    "\n",
    "\n",
    "def summarize_cv(cvlist, stat=\"rmse\"):\n",
    "    result = pd.DataFrame(\n",
    "        {\"Model\" + str(x + 1): cvlist[x][stat] for x in range(len(cv_list))}\n",
    "    )\n",
    "    result[\"Resample\"] = [\"Fold\" + str(x + 1) for x in range(len(cvlist[0][\"rmse\"]))]\n",
    "    result = result.set_index(\"Resample\")\n",
    "    result = pd.concat([result, pd.DataFrame(result.mean(), columns=[\"Average\"]).T])\n",
    "    return result\n",
    "\n"
   ]
  },
  {
   "cell_type": "code",
   "execution_count": 10,
   "metadata": {},
   "outputs": [],
   "source": [
    "cv1 = cv_reg(formula1, df, k, \"HC1\")\n",
    "cv2 = cv_reg(formula2, df, k, \"HC1\")\n",
    "cv3 = cv_reg(formula3, df, k, \"HC1\")\n",
    "cv4 = cv_reg(formula4, df, k,\"HC1\")\n",
    "cv_list = [cv1, cv2, cv3, cv4]\n",
    "\n"
   ]
  },
  {
   "cell_type": "code",
   "execution_count": 11,
   "metadata": {},
   "outputs": [
    {
     "data": {
      "text/html": [
       "<div>\n",
       "<style scoped>\n",
       "    .dataframe tbody tr th:only-of-type {\n",
       "        vertical-align: middle;\n",
       "    }\n",
       "\n",
       "    .dataframe tbody tr th {\n",
       "        vertical-align: top;\n",
       "    }\n",
       "\n",
       "    .dataframe thead th {\n",
       "        text-align: right;\n",
       "    }\n",
       "</style>\n",
       "<table border=\"1\" class=\"dataframe\">\n",
       "  <thead>\n",
       "    <tr style=\"text-align: right;\">\n",
       "      <th></th>\n",
       "      <th>Model1</th>\n",
       "      <th>Model2</th>\n",
       "      <th>Model3</th>\n",
       "      <th>Model4</th>\n",
       "    </tr>\n",
       "  </thead>\n",
       "  <tbody>\n",
       "    <tr>\n",
       "      <th>Fold1</th>\n",
       "      <td>21.177536</td>\n",
       "      <td>21.054421</td>\n",
       "      <td>20.683905</td>\n",
       "      <td>20.683405</td>\n",
       "    </tr>\n",
       "    <tr>\n",
       "      <th>Fold2</th>\n",
       "      <td>19.646234</td>\n",
       "      <td>19.511919</td>\n",
       "      <td>19.116726</td>\n",
       "      <td>19.113852</td>\n",
       "    </tr>\n",
       "    <tr>\n",
       "      <th>Fold3</th>\n",
       "      <td>15.904923</td>\n",
       "      <td>15.717255</td>\n",
       "      <td>15.264806</td>\n",
       "      <td>15.261016</td>\n",
       "    </tr>\n",
       "    <tr>\n",
       "      <th>Fold4</th>\n",
       "      <td>20.755919</td>\n",
       "      <td>20.642724</td>\n",
       "      <td>20.282369</td>\n",
       "      <td>20.280114</td>\n",
       "    </tr>\n",
       "    <tr>\n",
       "      <th>Average</th>\n",
       "      <td>19.371153</td>\n",
       "      <td>19.231580</td>\n",
       "      <td>18.836951</td>\n",
       "      <td>18.834597</td>\n",
       "    </tr>\n",
       "  </tbody>\n",
       "</table>\n",
       "</div>"
      ],
      "text/plain": [
       "            Model1     Model2     Model3     Model4\n",
       "Fold1    21.177536  21.054421  20.683905  20.683405\n",
       "Fold2    19.646234  19.511919  19.116726  19.113852\n",
       "Fold3    15.904923  15.717255  15.264806  15.261016\n",
       "Fold4    20.755919  20.642724  20.282369  20.280114\n",
       "Average  19.371153  19.231580  18.836951  18.834597"
      ]
     },
     "execution_count": 11,
     "metadata": {},
     "output_type": "execute_result"
    }
   ],
   "source": [
    "summarize_cv(cv_list)"
   ]
  }
 ],
 "metadata": {
  "kernelspec": {
   "display_name": "Python 3",
   "language": "python",
   "name": "python3"
  },
  "language_info": {
   "codemirror_mode": {
    "name": "ipython",
    "version": 3
   },
   "file_extension": ".py",
   "mimetype": "text/x-python",
   "name": "python",
   "nbconvert_exporter": "python",
   "pygments_lexer": "ipython3",
   "version": "3.11.4"
  }
 },
 "nbformat": 4,
 "nbformat_minor": 2
}
